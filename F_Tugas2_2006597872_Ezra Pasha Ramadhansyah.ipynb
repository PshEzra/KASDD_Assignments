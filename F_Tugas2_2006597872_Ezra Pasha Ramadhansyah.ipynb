{
 "cells": [
  {
   "cell_type": "markdown",
   "metadata": {
    "id": "0k_j9vD93i96"
   },
   "source": [
    "<center>\n",
    "<img src=\"https://drive.google.com/uc?id=1f1gGVI-rxcHjA90WEGNvvtSXF1pAxQwg\" alt=\"Fasilkom UI\" width=\"300\"/>\n",
    "\n",
    "CSGE603130 • Kecerdasan Artifisial dan Sains Data Dasar\n",
    "\n",
    "Semester Ganjil 2022/2023\n",
    "\n",
    "Fakultas Ilmu Komputer, Universitas Indonesia\n",
    "\n",
    "##**Tugas *2*: *Classification***\n",
    "\n",
    "###**Tenggat Waktu: 19 November 2022, 23.55 WIB**\n",
    "</center>\n",
    "\n",
    "####**Ketentuan:**\n",
    "\n",
    "1. Dataset yang digunakan pada tugas ini beserta deskripsinya telah disediakan di SCeLe.\n",
    "2. Buatlah program Jupyter Notebook yang menjawab pertanyaan sesuai dengan perintah soal yang disediakan.\n",
    "3. Dokumen Jupyter Notebook yang telah dilengkapi dengan jawaban dikumpulkan dengan format penamaan **Kelas_Tugas2_NPM_Nama.ipynb**. Contoh: A_Tugas2_2006123456_Budi.ipynb\n",
    "4. Kumpulkan dokumen tersebut pada submisi yang telah disediakan di SCeLe sesuai dengan kelas masing-masing sebelum **19 November 2022, 23.55 WIB**. Keterlambatan pengumpulan akan dikenakan pinalti.\n",
    "5. Praktikum ini dirancang sebagai **tugas mandiri**. Plagiarisme tidak diperkenankan dalam bentuk apapun. Adapun kolaborasi berupa diskusi (tanpa menyalin) dan literasi masih diperbolehkan dengan mencantumkan kolaborator dan sumber.\n"
   ]
  },
  {
   "cell_type": "markdown",
   "metadata": {
    "id": "JnRUE1Ul62_R"
   },
   "source": [
    "## **Pernyataan Integritas**\n",
    "\n",
    "Wajib diisi. Tanpa pernyataan integritas submisi akan dikenakan pinalti."
   ]
  },
  {
   "cell_type": "code",
   "execution_count": 1,
   "metadata": {
    "id": "9tnfWWpN7vjq"
   },
   "outputs": [],
   "source": [
    "# Isi dengan data diri Anda\n",
    "NAMA = \"Ezra Pasha Ramadhansyah\"\n",
    "KELAS = \"F\"\n",
    "NPM = \"2006597872\"\n",
    "\n",
    "# Isi dengan NPM teman yang berdiskusi dengan Anda\n",
    "KOLABORATOR = []\n",
    "\n",
    "# Isi dengan sumber referensi yang Anda gunakan dalam mengerjakan\n",
    "REFERENSI = []"
   ]
  },
  {
   "cell_type": "code",
   "execution_count": 2,
   "metadata": {
    "colab": {
     "base_uri": "https://localhost:8080/"
    },
    "id": "KVEdteyu3hot",
    "outputId": "014b719c-1ec7-4e92-ae58-a514f4e308f3"
   },
   "outputs": [
    {
     "name": "stdout",
     "output_type": "stream",
     "text": [
      "Saya, Ezra Pasha Ramadhansyah dari kelas F dengan NPM 2006597872, menyatakan bahwa seluruh jawaban pada pekerjaan ini murni saya kerjakan sendiri.\n",
      "Saya tidak mencontek jawaban, memberikan jawaban, maupun menyalin dari sumber manapun.\n",
      " \n",
      "Jika saya melanggar pernyataan tersebut, saya siap menerima konsekuensi apapun yang diberikan.\n",
      "   (Ezra Pasha Ramadhansyah)\n"
     ]
    }
   ],
   "source": [
    "PERNYATAAN_INTEGRITAS = \"Saya, %s dari kelas %s dengan NPM %s, menyatakan bahwa seluruh jawaban pada pekerjaan ini murni saya kerjakan sendiri.\\n\\\n",
    "Saya tidak mencontek jawaban, memberikan jawaban, maupun menyalin dari sumber manapun.\\n \\\n",
    "\\n\\\n",
    "Jika saya melanggar pernyataan tersebut, saya siap menerima konsekuensi apapun yang diberikan.\\n   \\\n",
    "(%s)\" % (NAMA, KELAS, NPM, NAMA)\n",
    "\n",
    "print(PERNYATAAN_INTEGRITAS)"
   ]
  },
  {
   "cell_type": "code",
   "execution_count": 3,
   "metadata": {
    "id": "PfDooLQpbXRP"
   },
   "outputs": [],
   "source": [
    "import matplotlib.pyplot as plt\n",
    "import numpy as np\n",
    "import pandas as pd\n",
    "\n",
    "from sklearn.ensemble import RandomForestClassifier\n",
    "from sklearn.feature_selection import SelectKBest, f_classif\n",
    "from sklearn.metrics import classification_report, precision_score, recall_score, classification_report, accuracy_score, f1_score\n",
    "from sklearn.model_selection import GridSearchCV, train_test_split, KFold, cross_val_score\n",
    "from sklearn.naive_bayes import GaussianNB, MultinomialNB, ComplementNB, BernoulliNB, CategoricalNB\n",
    "from sklearn.neighbors import KNeighborsClassifier\n",
    "from sklearn.preprocessing import MinMaxScaler, LabelEncoder, OneHotEncoder, Normalizer\n",
    "from sklearn.tree import DecisionTreeClassifier"
   ]
  },
  {
   "cell_type": "markdown",
   "metadata": {
    "id": "whoUqmpRTKVe"
   },
   "source": [
    "## **Dataset**"
   ]
  },
  {
   "cell_type": "markdown",
   "metadata": {
    "id": "EK27FheIFqrt"
   },
   "source": [
    "Dataset yang digunakan adalah dataset Mobile Prices dimana kita memklasifikasi handphone lewat harganya, terdapat 21 atribut dan target atributnya adalah price_range.\n",
    "\n",
    "Penjelesan atribut:\n",
    "* battery_power : Total energy a battery can store in one time measured in mAh\n",
    "* blue : Has bluetooth or not\n",
    "* clock_speed : speed at which microprocessor executes instructions\n",
    "* dual_sim : Has dual sim support or not\n",
    "* fc : Front Camera mega pixels\n",
    "* four_g : Has 4G or not\n",
    "* int_memory : Internal Memory in Gigabytes\n",
    "* m_dep : Mobile Depth in cm\n",
    "* mobile_wt : Weight of mobile phone\n",
    "* n_cores : Number of cores of processor\n",
    "* pc : Primary Camera mega pixels\n",
    "* px_height : Pixel Resolution Height\n",
    "* px_width : Pixel Resolution Width\n",
    "* ram : Random Access Memory in Mega Bytes\n",
    "* sc_h : Screen Height of mobile in cm\n",
    "* sc_w : Screen Width of mobile in cm\n",
    "* talk_time : Longest time that a single battery charge will last when you are\n",
    "* three_g : Has 3G or not\n",
    "* touch_screen : Has touch screen or not\n",
    "* wifi : Has wifi or not\n",
    "* price_range : This is the target variable with value of 0(low cost), 1(medium cost), 2(high cost) and 3(very high cost).\n",
    "\n",
    "Sumber: https://www.kaggle.com/datasets/iabhishekofficial/mobile-price-classification (dengan modifikasi)"
   ]
  },
  {
   "cell_type": "markdown",
   "metadata": {
    "id": "PIJ1_2ZIROKV"
   },
   "source": [
    "## [25] **Preprocessing**"
   ]
  },
  {
   "cell_type": "markdown",
   "metadata": {
    "id": "-17a8T9R2_15"
   },
   "source": [
    "**Pada bagian ini Anda akan diminta untuk melakukan preprocessing dan eksplorasi data sebelum data digunakan dalam model klasifikasi.**"
   ]
  },
  {
   "cell_type": "markdown",
   "metadata": {
    "id": "rjKw3KxmRbhm"
   },
   "source": [
    "1\\. [3] Berikan ringkasan mengenai data tersebut terkait dengan deskripsi setiap atribut, jumlah missing values, jumlah duplikasi data, dan kemungkinan adanya outliers pada data!"
   ]
  },
  {
   "cell_type": "code",
   "execution_count": 4,
   "metadata": {
    "id": "77nxbl8ZiLai"
   },
   "outputs": [
    {
     "data": {
      "text/plain": [
       "(2021, 21)"
      ]
     },
     "metadata": {},
     "output_type": "display_data"
    },
    {
     "data": {
      "text/html": [
       "<div>\n",
       "<style scoped>\n",
       "    .dataframe tbody tr th:only-of-type {\n",
       "        vertical-align: middle;\n",
       "    }\n",
       "\n",
       "    .dataframe tbody tr th {\n",
       "        vertical-align: top;\n",
       "    }\n",
       "\n",
       "    .dataframe thead th {\n",
       "        text-align: right;\n",
       "    }\n",
       "</style>\n",
       "<table border=\"1\" class=\"dataframe\">\n",
       "  <thead>\n",
       "    <tr style=\"text-align: right;\">\n",
       "      <th></th>\n",
       "      <th>battery_power</th>\n",
       "      <th>blue</th>\n",
       "      <th>clock_speed</th>\n",
       "      <th>dual_sim</th>\n",
       "      <th>fc</th>\n",
       "      <th>four_g</th>\n",
       "      <th>int_memory</th>\n",
       "      <th>m_dep</th>\n",
       "      <th>mobile_wt</th>\n",
       "      <th>n_cores</th>\n",
       "      <th>...</th>\n",
       "      <th>px_height</th>\n",
       "      <th>px_width</th>\n",
       "      <th>ram</th>\n",
       "      <th>sc_h</th>\n",
       "      <th>sc_w</th>\n",
       "      <th>talk_time</th>\n",
       "      <th>three_g</th>\n",
       "      <th>touch_screen</th>\n",
       "      <th>wifi</th>\n",
       "      <th>price_range</th>\n",
       "    </tr>\n",
       "  </thead>\n",
       "  <tbody>\n",
       "    <tr>\n",
       "      <th>0</th>\n",
       "      <td>842</td>\n",
       "      <td>0</td>\n",
       "      <td>2.2</td>\n",
       "      <td>0</td>\n",
       "      <td>1</td>\n",
       "      <td>0</td>\n",
       "      <td>7.0</td>\n",
       "      <td>0.6</td>\n",
       "      <td>188</td>\n",
       "      <td>2</td>\n",
       "      <td>...</td>\n",
       "      <td>20</td>\n",
       "      <td>756</td>\n",
       "      <td>2549.0</td>\n",
       "      <td>9</td>\n",
       "      <td>7</td>\n",
       "      <td>NaN</td>\n",
       "      <td>0</td>\n",
       "      <td>0.0</td>\n",
       "      <td>1.0</td>\n",
       "      <td>1</td>\n",
       "    </tr>\n",
       "    <tr>\n",
       "      <th>1</th>\n",
       "      <td>1021</td>\n",
       "      <td>1</td>\n",
       "      <td>0.5</td>\n",
       "      <td>1</td>\n",
       "      <td>0</td>\n",
       "      <td>1</td>\n",
       "      <td>53.0</td>\n",
       "      <td>0.7</td>\n",
       "      <td>136</td>\n",
       "      <td>3</td>\n",
       "      <td>...</td>\n",
       "      <td>905</td>\n",
       "      <td>1988</td>\n",
       "      <td>2631.0</td>\n",
       "      <td>17</td>\n",
       "      <td>3</td>\n",
       "      <td>7.0</td>\n",
       "      <td>1</td>\n",
       "      <td>1.0</td>\n",
       "      <td>0.0</td>\n",
       "      <td>2</td>\n",
       "    </tr>\n",
       "    <tr>\n",
       "      <th>2</th>\n",
       "      <td>563</td>\n",
       "      <td>1</td>\n",
       "      <td>0.5</td>\n",
       "      <td>1</td>\n",
       "      <td>2</td>\n",
       "      <td>1</td>\n",
       "      <td>41.0</td>\n",
       "      <td>0.9</td>\n",
       "      <td>145</td>\n",
       "      <td>5</td>\n",
       "      <td>...</td>\n",
       "      <td>1263</td>\n",
       "      <td>1716</td>\n",
       "      <td>2603.0</td>\n",
       "      <td>11</td>\n",
       "      <td>2</td>\n",
       "      <td>9.0</td>\n",
       "      <td>1</td>\n",
       "      <td>1.0</td>\n",
       "      <td>0.0</td>\n",
       "      <td>2</td>\n",
       "    </tr>\n",
       "    <tr>\n",
       "      <th>3</th>\n",
       "      <td>615</td>\n",
       "      <td>1</td>\n",
       "      <td>2.5</td>\n",
       "      <td>0</td>\n",
       "      <td>0</td>\n",
       "      <td>0</td>\n",
       "      <td>10.0</td>\n",
       "      <td>0.8</td>\n",
       "      <td>131</td>\n",
       "      <td>6</td>\n",
       "      <td>...</td>\n",
       "      <td>1216</td>\n",
       "      <td>1786</td>\n",
       "      <td>2769.0</td>\n",
       "      <td>16</td>\n",
       "      <td>8</td>\n",
       "      <td>11.0</td>\n",
       "      <td>1</td>\n",
       "      <td>0.0</td>\n",
       "      <td>0.0</td>\n",
       "      <td>2</td>\n",
       "    </tr>\n",
       "    <tr>\n",
       "      <th>4</th>\n",
       "      <td>1821</td>\n",
       "      <td>1</td>\n",
       "      <td>1.2</td>\n",
       "      <td>0</td>\n",
       "      <td>13</td>\n",
       "      <td>1</td>\n",
       "      <td>44.0</td>\n",
       "      <td>NaN</td>\n",
       "      <td>141</td>\n",
       "      <td>2</td>\n",
       "      <td>...</td>\n",
       "      <td>1208</td>\n",
       "      <td>1212</td>\n",
       "      <td>1411.0</td>\n",
       "      <td>8</td>\n",
       "      <td>2</td>\n",
       "      <td>15.0</td>\n",
       "      <td>1</td>\n",
       "      <td>1.0</td>\n",
       "      <td>0.0</td>\n",
       "      <td>1</td>\n",
       "    </tr>\n",
       "  </tbody>\n",
       "</table>\n",
       "<p>5 rows × 21 columns</p>\n",
       "</div>"
      ],
      "text/plain": [
       "   battery_power  blue  clock_speed  dual_sim  fc  four_g  int_memory  m_dep  \\\n",
       "0            842     0          2.2         0   1       0         7.0    0.6   \n",
       "1           1021     1          0.5         1   0       1        53.0    0.7   \n",
       "2            563     1          0.5         1   2       1        41.0    0.9   \n",
       "3            615     1          2.5         0   0       0        10.0    0.8   \n",
       "4           1821     1          1.2         0  13       1        44.0    NaN   \n",
       "\n",
       "   mobile_wt  n_cores  ...  px_height  px_width     ram  sc_h  sc_w  \\\n",
       "0        188        2  ...         20       756  2549.0     9     7   \n",
       "1        136        3  ...        905      1988  2631.0    17     3   \n",
       "2        145        5  ...       1263      1716  2603.0    11     2   \n",
       "3        131        6  ...       1216      1786  2769.0    16     8   \n",
       "4        141        2  ...       1208      1212  1411.0     8     2   \n",
       "\n",
       "   talk_time  three_g  touch_screen  wifi  price_range  \n",
       "0        NaN        0           0.0   1.0            1  \n",
       "1        7.0        1           1.0   0.0            2  \n",
       "2        9.0        1           1.0   0.0            2  \n",
       "3       11.0        1           0.0   0.0            2  \n",
       "4       15.0        1           1.0   0.0            1  \n",
       "\n",
       "[5 rows x 21 columns]"
      ]
     },
     "metadata": {},
     "output_type": "display_data"
    },
    {
     "name": "stdout",
     "output_type": "stream",
     "text": [
      "\n",
      "Description\n"
     ]
    },
    {
     "data": {
      "text/html": [
       "<div>\n",
       "<style scoped>\n",
       "    .dataframe tbody tr th:only-of-type {\n",
       "        vertical-align: middle;\n",
       "    }\n",
       "\n",
       "    .dataframe tbody tr th {\n",
       "        vertical-align: top;\n",
       "    }\n",
       "\n",
       "    .dataframe thead th {\n",
       "        text-align: right;\n",
       "    }\n",
       "</style>\n",
       "<table border=\"1\" class=\"dataframe\">\n",
       "  <thead>\n",
       "    <tr style=\"text-align: right;\">\n",
       "      <th></th>\n",
       "      <th>battery_power</th>\n",
       "      <th>blue</th>\n",
       "      <th>clock_speed</th>\n",
       "      <th>dual_sim</th>\n",
       "      <th>fc</th>\n",
       "      <th>four_g</th>\n",
       "      <th>int_memory</th>\n",
       "      <th>m_dep</th>\n",
       "      <th>mobile_wt</th>\n",
       "      <th>n_cores</th>\n",
       "      <th>...</th>\n",
       "      <th>px_height</th>\n",
       "      <th>px_width</th>\n",
       "      <th>ram</th>\n",
       "      <th>sc_h</th>\n",
       "      <th>sc_w</th>\n",
       "      <th>talk_time</th>\n",
       "      <th>three_g</th>\n",
       "      <th>touch_screen</th>\n",
       "      <th>wifi</th>\n",
       "      <th>price_range</th>\n",
       "    </tr>\n",
       "  </thead>\n",
       "  <tbody>\n",
       "    <tr>\n",
       "      <th>count</th>\n",
       "      <td>2021.000000</td>\n",
       "      <td>2021.000000</td>\n",
       "      <td>1920.000000</td>\n",
       "      <td>2021.000000</td>\n",
       "      <td>2021.000000</td>\n",
       "      <td>2021.000000</td>\n",
       "      <td>1915.000000</td>\n",
       "      <td>1928.000000</td>\n",
       "      <td>2021.000000</td>\n",
       "      <td>2021.000000</td>\n",
       "      <td>...</td>\n",
       "      <td>2021.000000</td>\n",
       "      <td>2021.000000</td>\n",
       "      <td>1927.000000</td>\n",
       "      <td>2021.000000</td>\n",
       "      <td>2021.000000</td>\n",
       "      <td>1937.000000</td>\n",
       "      <td>2021.000000</td>\n",
       "      <td>1925.000000</td>\n",
       "      <td>1922.000000</td>\n",
       "      <td>2021.000000</td>\n",
       "    </tr>\n",
       "    <tr>\n",
       "      <th>mean</th>\n",
       "      <td>1239.205344</td>\n",
       "      <td>0.492331</td>\n",
       "      <td>1.521302</td>\n",
       "      <td>0.505690</td>\n",
       "      <td>4.303810</td>\n",
       "      <td>0.523998</td>\n",
       "      <td>32.086162</td>\n",
       "      <td>0.501556</td>\n",
       "      <td>140.272143</td>\n",
       "      <td>4.532905</td>\n",
       "      <td>...</td>\n",
       "      <td>646.858981</td>\n",
       "      <td>1249.240970</td>\n",
       "      <td>2120.320187</td>\n",
       "      <td>12.323602</td>\n",
       "      <td>5.790203</td>\n",
       "      <td>11.022716</td>\n",
       "      <td>0.762494</td>\n",
       "      <td>0.504935</td>\n",
       "      <td>0.506243</td>\n",
       "      <td>1.503216</td>\n",
       "    </tr>\n",
       "    <tr>\n",
       "      <th>std</th>\n",
       "      <td>439.916748</td>\n",
       "      <td>0.500065</td>\n",
       "      <td>0.816020</td>\n",
       "      <td>0.500091</td>\n",
       "      <td>4.330382</td>\n",
       "      <td>0.499547</td>\n",
       "      <td>18.198040</td>\n",
       "      <td>0.289261</td>\n",
       "      <td>35.393281</td>\n",
       "      <td>2.291511</td>\n",
       "      <td>...</td>\n",
       "      <td>445.159739</td>\n",
       "      <td>433.141437</td>\n",
       "      <td>1079.774853</td>\n",
       "      <td>4.213155</td>\n",
       "      <td>4.369054</td>\n",
       "      <td>5.459042</td>\n",
       "      <td>0.425660</td>\n",
       "      <td>0.500106</td>\n",
       "      <td>0.500091</td>\n",
       "      <td>1.114537</td>\n",
       "    </tr>\n",
       "    <tr>\n",
       "      <th>min</th>\n",
       "      <td>501.000000</td>\n",
       "      <td>0.000000</td>\n",
       "      <td>0.500000</td>\n",
       "      <td>0.000000</td>\n",
       "      <td>0.000000</td>\n",
       "      <td>0.000000</td>\n",
       "      <td>2.000000</td>\n",
       "      <td>0.100000</td>\n",
       "      <td>80.000000</td>\n",
       "      <td>1.000000</td>\n",
       "      <td>...</td>\n",
       "      <td>0.000000</td>\n",
       "      <td>500.000000</td>\n",
       "      <td>256.000000</td>\n",
       "      <td>5.000000</td>\n",
       "      <td>0.000000</td>\n",
       "      <td>2.000000</td>\n",
       "      <td>0.000000</td>\n",
       "      <td>0.000000</td>\n",
       "      <td>0.000000</td>\n",
       "      <td>0.000000</td>\n",
       "    </tr>\n",
       "    <tr>\n",
       "      <th>25%</th>\n",
       "      <td>852.000000</td>\n",
       "      <td>0.000000</td>\n",
       "      <td>0.700000</td>\n",
       "      <td>0.000000</td>\n",
       "      <td>1.000000</td>\n",
       "      <td>0.000000</td>\n",
       "      <td>16.000000</td>\n",
       "      <td>0.200000</td>\n",
       "      <td>109.000000</td>\n",
       "      <td>3.000000</td>\n",
       "      <td>...</td>\n",
       "      <td>284.000000</td>\n",
       "      <td>874.000000</td>\n",
       "      <td>1210.500000</td>\n",
       "      <td>9.000000</td>\n",
       "      <td>2.000000</td>\n",
       "      <td>6.000000</td>\n",
       "      <td>1.000000</td>\n",
       "      <td>0.000000</td>\n",
       "      <td>0.000000</td>\n",
       "      <td>1.000000</td>\n",
       "    </tr>\n",
       "    <tr>\n",
       "      <th>50%</th>\n",
       "      <td>1230.000000</td>\n",
       "      <td>0.000000</td>\n",
       "      <td>1.500000</td>\n",
       "      <td>1.000000</td>\n",
       "      <td>3.000000</td>\n",
       "      <td>1.000000</td>\n",
       "      <td>32.000000</td>\n",
       "      <td>0.500000</td>\n",
       "      <td>141.000000</td>\n",
       "      <td>4.000000</td>\n",
       "      <td>...</td>\n",
       "      <td>567.000000</td>\n",
       "      <td>1245.000000</td>\n",
       "      <td>2130.000000</td>\n",
       "      <td>12.000000</td>\n",
       "      <td>5.000000</td>\n",
       "      <td>11.000000</td>\n",
       "      <td>1.000000</td>\n",
       "      <td>1.000000</td>\n",
       "      <td>1.000000</td>\n",
       "      <td>2.000000</td>\n",
       "    </tr>\n",
       "    <tr>\n",
       "      <th>75%</th>\n",
       "      <td>1617.000000</td>\n",
       "      <td>1.000000</td>\n",
       "      <td>2.200000</td>\n",
       "      <td>1.000000</td>\n",
       "      <td>7.000000</td>\n",
       "      <td>1.000000</td>\n",
       "      <td>48.000000</td>\n",
       "      <td>0.800000</td>\n",
       "      <td>170.000000</td>\n",
       "      <td>7.000000</td>\n",
       "      <td>...</td>\n",
       "      <td>947.000000</td>\n",
       "      <td>1633.000000</td>\n",
       "      <td>3033.500000</td>\n",
       "      <td>16.000000</td>\n",
       "      <td>9.000000</td>\n",
       "      <td>16.000000</td>\n",
       "      <td>1.000000</td>\n",
       "      <td>1.000000</td>\n",
       "      <td>1.000000</td>\n",
       "      <td>2.000000</td>\n",
       "    </tr>\n",
       "    <tr>\n",
       "      <th>max</th>\n",
       "      <td>1998.000000</td>\n",
       "      <td>1.000000</td>\n",
       "      <td>3.000000</td>\n",
       "      <td>1.000000</td>\n",
       "      <td>19.000000</td>\n",
       "      <td>1.000000</td>\n",
       "      <td>64.000000</td>\n",
       "      <td>1.000000</td>\n",
       "      <td>200.000000</td>\n",
       "      <td>8.000000</td>\n",
       "      <td>...</td>\n",
       "      <td>1960.000000</td>\n",
       "      <td>1998.000000</td>\n",
       "      <td>3998.000000</td>\n",
       "      <td>19.000000</td>\n",
       "      <td>18.000000</td>\n",
       "      <td>20.000000</td>\n",
       "      <td>1.000000</td>\n",
       "      <td>1.000000</td>\n",
       "      <td>1.000000</td>\n",
       "      <td>3.000000</td>\n",
       "    </tr>\n",
       "  </tbody>\n",
       "</table>\n",
       "<p>8 rows × 21 columns</p>\n",
       "</div>"
      ],
      "text/plain": [
       "       battery_power         blue  clock_speed     dual_sim           fc  \\\n",
       "count    2021.000000  2021.000000  1920.000000  2021.000000  2021.000000   \n",
       "mean     1239.205344     0.492331     1.521302     0.505690     4.303810   \n",
       "std       439.916748     0.500065     0.816020     0.500091     4.330382   \n",
       "min       501.000000     0.000000     0.500000     0.000000     0.000000   \n",
       "25%       852.000000     0.000000     0.700000     0.000000     1.000000   \n",
       "50%      1230.000000     0.000000     1.500000     1.000000     3.000000   \n",
       "75%      1617.000000     1.000000     2.200000     1.000000     7.000000   \n",
       "max      1998.000000     1.000000     3.000000     1.000000    19.000000   \n",
       "\n",
       "            four_g   int_memory        m_dep    mobile_wt      n_cores  ...  \\\n",
       "count  2021.000000  1915.000000  1928.000000  2021.000000  2021.000000  ...   \n",
       "mean      0.523998    32.086162     0.501556   140.272143     4.532905  ...   \n",
       "std       0.499547    18.198040     0.289261    35.393281     2.291511  ...   \n",
       "min       0.000000     2.000000     0.100000    80.000000     1.000000  ...   \n",
       "25%       0.000000    16.000000     0.200000   109.000000     3.000000  ...   \n",
       "50%       1.000000    32.000000     0.500000   141.000000     4.000000  ...   \n",
       "75%       1.000000    48.000000     0.800000   170.000000     7.000000  ...   \n",
       "max       1.000000    64.000000     1.000000   200.000000     8.000000  ...   \n",
       "\n",
       "         px_height     px_width          ram         sc_h         sc_w  \\\n",
       "count  2021.000000  2021.000000  1927.000000  2021.000000  2021.000000   \n",
       "mean    646.858981  1249.240970  2120.320187    12.323602     5.790203   \n",
       "std     445.159739   433.141437  1079.774853     4.213155     4.369054   \n",
       "min       0.000000   500.000000   256.000000     5.000000     0.000000   \n",
       "25%     284.000000   874.000000  1210.500000     9.000000     2.000000   \n",
       "50%     567.000000  1245.000000  2130.000000    12.000000     5.000000   \n",
       "75%     947.000000  1633.000000  3033.500000    16.000000     9.000000   \n",
       "max    1960.000000  1998.000000  3998.000000    19.000000    18.000000   \n",
       "\n",
       "         talk_time      three_g  touch_screen         wifi  price_range  \n",
       "count  1937.000000  2021.000000   1925.000000  1922.000000  2021.000000  \n",
       "mean     11.022716     0.762494      0.504935     0.506243     1.503216  \n",
       "std       5.459042     0.425660      0.500106     0.500091     1.114537  \n",
       "min       2.000000     0.000000      0.000000     0.000000     0.000000  \n",
       "25%       6.000000     1.000000      0.000000     0.000000     1.000000  \n",
       "50%      11.000000     1.000000      1.000000     1.000000     2.000000  \n",
       "75%      16.000000     1.000000      1.000000     1.000000     2.000000  \n",
       "max      20.000000     1.000000      1.000000     1.000000     3.000000  \n",
       "\n",
       "[8 rows x 21 columns]"
      ]
     },
     "metadata": {},
     "output_type": "display_data"
    },
    {
     "data": {
      "text/plain": [
       "count    2021.000000\n",
       "mean        9.938149\n",
       "std         6.054671\n",
       "min         0.000000\n",
       "25%         5.000000\n",
       "50%        10.000000\n",
       "75%        15.000000\n",
       "max        20.000000\n",
       "Name: pc, dtype: float64"
      ]
     },
     "metadata": {},
     "output_type": "display_data"
    },
    {
     "name": "stdout",
     "output_type": "stream",
     "text": [
      "\n",
      "Null Data\n",
      "\n"
     ]
    },
    {
     "data": {
      "text/plain": [
       "battery_power      0\n",
       "blue               0\n",
       "clock_speed      101\n",
       "dual_sim           0\n",
       "fc                 0\n",
       "four_g             0\n",
       "int_memory       106\n",
       "m_dep             93\n",
       "mobile_wt          0\n",
       "n_cores            0\n",
       "pc                 0\n",
       "px_height          0\n",
       "px_width           0\n",
       "ram               94\n",
       "sc_h               0\n",
       "sc_w               0\n",
       "talk_time         84\n",
       "three_g            0\n",
       "touch_screen      96\n",
       "wifi              99\n",
       "price_range        0\n",
       "dtype: int64"
      ]
     },
     "metadata": {},
     "output_type": "display_data"
    },
    {
     "name": "stdout",
     "output_type": "stream",
     "text": [
      "Duplicated Data : 21\n",
      "\n",
      "\n",
      "Check for Outlier\n",
      "\n",
      "battery_power 0\n",
      "blue 0\n",
      "clock_speed 0\n",
      "dual_sim 0\n",
      "fc 18\n",
      "four_g 0\n",
      "int_memory 0\n",
      "m_dep 0\n",
      "mobile_wt 0\n",
      "n_cores 0\n",
      "pc 0\n",
      "px_height 2\n",
      "px_width 0\n",
      "ram 0\n",
      "sc_h 0\n",
      "sc_w 0\n",
      "talk_time 0\n",
      "three_g 480\n",
      "touch_screen 0\n",
      "wifi 0\n",
      "price_range 0\n"
     ]
    }
   ],
   "source": [
    "df = pd.read_csv('D:\\Backup\\Kuliah\\KASDD files\\mobile_phone.csv')\n",
    "\n",
    "display(df.shape)\n",
    "display(df.head())\n",
    "print(\"\\nDescription\")\n",
    "display(df.describe())\n",
    "display(df['pc'].describe())\n",
    "print(\"\\nNull Data\\n\")\n",
    "display(df.isna().sum())\n",
    "\n",
    "print(\"Duplicated Data :\", df.duplicated().sum())\n",
    "print('\\n')\n",
    "\n",
    "def count_outlier(dataFrame):\n",
    "    print(\"Check for Outlier\\n\")\n",
    "    \n",
    "    for col in dataFrame:\n",
    "        Q1 = dataFrame[col].quantile(0.25)\n",
    "        Q3 = dataFrame[col].quantile(0.75)\n",
    "        IQR = Q3 - Q1\n",
    "        LB = Q1 - IQR * 1.5\n",
    "        UB = Q3 + IQR * 1.5\n",
    "\n",
    "        print(col, dataFrame.loc[(dataFrame[col] < LB) | (dataFrame[col] > UB)][col].count())\n",
    "        \n",
    "count_outlier(df)"
   ]
  },
  {
   "cell_type": "markdown",
   "metadata": {
    "id": "GSDnFvDQaHsE"
   },
   "source": [
    "2\\. [3] Berdasarkan eksplorasi anda pada nomor 1, lakukan data preparation hingga data tersebut menurut anda cukup “clean” dan dapat memberikan hasil klasifikasi yang maksimal."
   ]
  },
  {
   "cell_type": "code",
   "execution_count": 5,
   "metadata": {
    "id": "JjVBdG3wiLvC"
   },
   "outputs": [
    {
     "data": {
      "text/plain": [
       "battery_power    0\n",
       "blue             0\n",
       "clock_speed      0\n",
       "dual_sim         0\n",
       "fc               0\n",
       "four_g           0\n",
       "int_memory       0\n",
       "m_dep            0\n",
       "mobile_wt        0\n",
       "n_cores          0\n",
       "pc               0\n",
       "px_height        0\n",
       "px_width         0\n",
       "ram              0\n",
       "sc_h             0\n",
       "sc_w             0\n",
       "talk_time        0\n",
       "three_g          0\n",
       "touch_screen     0\n",
       "wifi             0\n",
       "price_range      0\n",
       "dtype: int64"
      ]
     },
     "metadata": {},
     "output_type": "display_data"
    },
    {
     "name": "stdout",
     "output_type": "stream",
     "text": [
      "Check for Outlier\n",
      "\n",
      "battery_power 0\n",
      "blue 0\n",
      "clock_speed 0\n",
      "dual_sim 0\n",
      "fc 11\n",
      "four_g 0\n",
      "int_memory 0\n",
      "m_dep 0\n",
      "mobile_wt 0\n",
      "n_cores 0\n",
      "pc 0\n",
      "px_height 0\n",
      "px_width 0\n",
      "ram 0\n",
      "sc_h 0\n",
      "sc_w 0\n",
      "talk_time 0\n",
      "three_g 328\n",
      "touch_screen 0\n",
      "wifi 0\n",
      "price_range 0\n"
     ]
    },
    {
     "data": {
      "text/plain": [
       "(1347, 21)"
      ]
     },
     "metadata": {},
     "output_type": "display_data"
    }
   ],
   "source": [
    "df.dropna(inplace=True)\n",
    "\n",
    "def remove_outlier(col, df):\n",
    "    Q1 = df[col].quantile(0.25)\n",
    "    Q3 = df[col].quantile(0.75)\n",
    "    IQR = Q3 - Q1\n",
    "    LB = Q1 - IQR * 1.5\n",
    "    UB = Q3 + IQR * 1.5\n",
    "\n",
    "    df_filtered = df[(df[col] >= LB) & (df[col] <= UB)]\n",
    "    return df_filtered\n",
    "    \n",
    "#df = remove_outlier('fc', df)\n",
    "df = remove_outlier('px_height', df)\n",
    "\n",
    "display(df.isna().sum())\n",
    "\n",
    "count_outlier(df)\n",
    "\n",
    "display(df.shape)"
   ]
  },
  {
   "cell_type": "markdown",
   "metadata": {},
   "source": [
    "**Keterangan**<br>\n",
    "Null data yang ada di-drop karena berjumlah terlalu banyak untuk direplace dengan central tendency. Selain itu menggantinya dengan central tendency juga bisa mengganggu distribusi data. <br><br>\n",
    "Outlier pada `px_height` dan `fc` bisa diremove atau direplace. Setelah beberapa iterasi, dalam preprocessing ini saya memilih untuk remove outlier `px_height` dan membiarkan `fc`. Alasan remove adalah karena px_height menjadi fitur optimal. Sementara alasan membiarkan outlier fc adalah karena fc tidak menjadi fitur optimal. Menghapus outlier yang ada bisa mempengaruhi fitur yang lain sehingga dibiarkan. `three_g` dibiarkan karena kemungkinan besar memang bagian dari data dan bukan error."
   ]
  },
  {
   "cell_type": "markdown",
   "metadata": {
    "id": "1Dy5ZSFiaJ-j"
   },
   "source": [
    "3\\. [3] Menurut Anda, apakah perlu dilakukan normalisasi terhadap data, atau cukup menggunakan data asli? Jika ya, bentuk normalisasi apa yang tepat digunakan pada data? Jelaskan secara singkat alasan Anda!\n"
   ]
  },
  {
   "cell_type": "code",
   "execution_count": 6,
   "metadata": {
    "id": "F8pRxs-JiNjY"
   },
   "outputs": [],
   "source": [
    "X_raw = df.drop([\"price_range\"],axis=1)\n",
    "normalized = MinMaxScaler()\n",
    "X = normalized.fit_transform(X_raw)\n",
    "\n",
    "y = df[\"price_range\"]"
   ]
  },
  {
   "cell_type": "markdown",
   "metadata": {
    "id": "rpXss7aMVSrl"
   },
   "source": [
    "> Jawaban: \n",
    "\n",
    "> Normalisasi perlu dilakukan karena range yang dimiliki data cukup beragam. Dengan normalisasi kita mengubah mean menjadi 0 dan variansi menjadi 1. Selain itu kita juga akan melakukan fitting dengan **KNN** yang memerlukan data yang sudah discale"
   ]
  },
  {
   "cell_type": "markdown",
   "metadata": {
    "id": "SJSs0FIUZRrl"
   },
   "source": [
    "4\\. [10] Sebelum data diproses lebih lanjut lakukan *feature selection* dengan memilih beberapa fitur yang paling optimal untuk mengklasifikasikan label target!"
   ]
  },
  {
   "cell_type": "code",
   "execution_count": 7,
   "metadata": {
    "id": "BLmMRKH1iN8F"
   },
   "outputs": [
    {
     "data": {
      "text/html": [
       "<div>\n",
       "<style scoped>\n",
       "    .dataframe tbody tr th:only-of-type {\n",
       "        vertical-align: middle;\n",
       "    }\n",
       "\n",
       "    .dataframe tbody tr th {\n",
       "        vertical-align: top;\n",
       "    }\n",
       "\n",
       "    .dataframe thead th {\n",
       "        text-align: right;\n",
       "    }\n",
       "</style>\n",
       "<table border=\"1\" class=\"dataframe\">\n",
       "  <thead>\n",
       "    <tr style=\"text-align: right;\">\n",
       "      <th></th>\n",
       "      <th>battery_power</th>\n",
       "      <th>blue</th>\n",
       "      <th>clock_speed</th>\n",
       "      <th>dual_sim</th>\n",
       "      <th>fc</th>\n",
       "      <th>four_g</th>\n",
       "      <th>int_memory</th>\n",
       "      <th>m_dep</th>\n",
       "      <th>mobile_wt</th>\n",
       "      <th>n_cores</th>\n",
       "      <th>...</th>\n",
       "      <th>px_height</th>\n",
       "      <th>px_width</th>\n",
       "      <th>ram</th>\n",
       "      <th>sc_h</th>\n",
       "      <th>sc_w</th>\n",
       "      <th>talk_time</th>\n",
       "      <th>three_g</th>\n",
       "      <th>touch_screen</th>\n",
       "      <th>wifi</th>\n",
       "      <th>price_range</th>\n",
       "    </tr>\n",
       "  </thead>\n",
       "  <tbody>\n",
       "    <tr>\n",
       "      <th>battery_power</th>\n",
       "      <td>1.000000</td>\n",
       "      <td>0.003665</td>\n",
       "      <td>0.016820</td>\n",
       "      <td>-0.053470</td>\n",
       "      <td>0.016356</td>\n",
       "      <td>0.036925</td>\n",
       "      <td>0.005736</td>\n",
       "      <td>0.025960</td>\n",
       "      <td>-0.008130</td>\n",
       "      <td>-0.040219</td>\n",
       "      <td>...</td>\n",
       "      <td>0.009159</td>\n",
       "      <td>-0.027072</td>\n",
       "      <td>0.003993</td>\n",
       "      <td>-0.013099</td>\n",
       "      <td>-0.005747</td>\n",
       "      <td>0.040093</td>\n",
       "      <td>0.029253</td>\n",
       "      <td>0.004178</td>\n",
       "      <td>-0.015102</td>\n",
       "      <td>0.207743</td>\n",
       "    </tr>\n",
       "    <tr>\n",
       "      <th>blue</th>\n",
       "      <td>0.003665</td>\n",
       "      <td>1.000000</td>\n",
       "      <td>0.021083</td>\n",
       "      <td>0.008161</td>\n",
       "      <td>0.001862</td>\n",
       "      <td>0.020122</td>\n",
       "      <td>0.024580</td>\n",
       "      <td>0.036368</td>\n",
       "      <td>-0.002954</td>\n",
       "      <td>0.020826</td>\n",
       "      <td>...</td>\n",
       "      <td>-0.001896</td>\n",
       "      <td>-0.035930</td>\n",
       "      <td>0.020859</td>\n",
       "      <td>0.000504</td>\n",
       "      <td>-0.006129</td>\n",
       "      <td>0.024291</td>\n",
       "      <td>-0.032399</td>\n",
       "      <td>-0.021454</td>\n",
       "      <td>-0.030418</td>\n",
       "      <td>0.017862</td>\n",
       "    </tr>\n",
       "    <tr>\n",
       "      <th>clock_speed</th>\n",
       "      <td>0.016820</td>\n",
       "      <td>0.021083</td>\n",
       "      <td>1.000000</td>\n",
       "      <td>0.017061</td>\n",
       "      <td>0.000931</td>\n",
       "      <td>-0.010528</td>\n",
       "      <td>0.010888</td>\n",
       "      <td>-0.009088</td>\n",
       "      <td>-0.048459</td>\n",
       "      <td>0.010834</td>\n",
       "      <td>...</td>\n",
       "      <td>-0.016835</td>\n",
       "      <td>0.025212</td>\n",
       "      <td>0.008111</td>\n",
       "      <td>-0.020487</td>\n",
       "      <td>0.009927</td>\n",
       "      <td>-0.020319</td>\n",
       "      <td>-0.023414</td>\n",
       "      <td>0.021892</td>\n",
       "      <td>-0.011599</td>\n",
       "      <td>-0.001834</td>\n",
       "    </tr>\n",
       "    <tr>\n",
       "      <th>dual_sim</th>\n",
       "      <td>-0.053470</td>\n",
       "      <td>0.008161</td>\n",
       "      <td>0.017061</td>\n",
       "      <td>1.000000</td>\n",
       "      <td>-0.051256</td>\n",
       "      <td>-0.027413</td>\n",
       "      <td>-0.005203</td>\n",
       "      <td>-0.018392</td>\n",
       "      <td>-0.009159</td>\n",
       "      <td>-0.019179</td>\n",
       "      <td>...</td>\n",
       "      <td>-0.028550</td>\n",
       "      <td>0.003039</td>\n",
       "      <td>0.020362</td>\n",
       "      <td>0.014937</td>\n",
       "      <td>-0.016743</td>\n",
       "      <td>-0.021654</td>\n",
       "      <td>-0.032399</td>\n",
       "      <td>-0.051177</td>\n",
       "      <td>0.028976</td>\n",
       "      <td>-0.005037</td>\n",
       "    </tr>\n",
       "    <tr>\n",
       "      <th>fc</th>\n",
       "      <td>0.016356</td>\n",
       "      <td>0.001862</td>\n",
       "      <td>0.000931</td>\n",
       "      <td>-0.051256</td>\n",
       "      <td>1.000000</td>\n",
       "      <td>-0.045578</td>\n",
       "      <td>-0.017480</td>\n",
       "      <td>-0.008340</td>\n",
       "      <td>0.051546</td>\n",
       "      <td>0.000983</td>\n",
       "      <td>...</td>\n",
       "      <td>-0.043890</td>\n",
       "      <td>0.002647</td>\n",
       "      <td>0.001651</td>\n",
       "      <td>0.015221</td>\n",
       "      <td>-0.002808</td>\n",
       "      <td>0.003970</td>\n",
       "      <td>-0.004804</td>\n",
       "      <td>-0.007289</td>\n",
       "      <td>0.026430</td>\n",
       "      <td>0.006101</td>\n",
       "    </tr>\n",
       "    <tr>\n",
       "      <th>four_g</th>\n",
       "      <td>0.036925</td>\n",
       "      <td>0.020122</td>\n",
       "      <td>-0.010528</td>\n",
       "      <td>-0.027413</td>\n",
       "      <td>-0.045578</td>\n",
       "      <td>1.000000</td>\n",
       "      <td>0.015416</td>\n",
       "      <td>-0.010165</td>\n",
       "      <td>0.018056</td>\n",
       "      <td>-0.000069</td>\n",
       "      <td>...</td>\n",
       "      <td>-0.015819</td>\n",
       "      <td>0.002351</td>\n",
       "      <td>0.049973</td>\n",
       "      <td>0.054624</td>\n",
       "      <td>0.054797</td>\n",
       "      <td>-0.031515</td>\n",
       "      <td>0.584888</td>\n",
       "      <td>0.033650</td>\n",
       "      <td>-0.030747</td>\n",
       "      <td>0.056742</td>\n",
       "    </tr>\n",
       "    <tr>\n",
       "      <th>int_memory</th>\n",
       "      <td>0.005736</td>\n",
       "      <td>0.024580</td>\n",
       "      <td>0.010888</td>\n",
       "      <td>-0.005203</td>\n",
       "      <td>-0.017480</td>\n",
       "      <td>0.015416</td>\n",
       "      <td>1.000000</td>\n",
       "      <td>0.009582</td>\n",
       "      <td>-0.034782</td>\n",
       "      <td>-0.007883</td>\n",
       "      <td>...</td>\n",
       "      <td>0.018425</td>\n",
       "      <td>0.002594</td>\n",
       "      <td>0.068339</td>\n",
       "      <td>0.033848</td>\n",
       "      <td>0.024673</td>\n",
       "      <td>0.002199</td>\n",
       "      <td>0.007381</td>\n",
       "      <td>-0.052711</td>\n",
       "      <td>0.004161</td>\n",
       "      <td>0.084742</td>\n",
       "    </tr>\n",
       "    <tr>\n",
       "      <th>m_dep</th>\n",
       "      <td>0.025960</td>\n",
       "      <td>0.036368</td>\n",
       "      <td>-0.009088</td>\n",
       "      <td>-0.018392</td>\n",
       "      <td>-0.008340</td>\n",
       "      <td>-0.010165</td>\n",
       "      <td>0.009582</td>\n",
       "      <td>1.000000</td>\n",
       "      <td>0.049962</td>\n",
       "      <td>-0.005891</td>\n",
       "      <td>...</td>\n",
       "      <td>0.001435</td>\n",
       "      <td>-0.014775</td>\n",
       "      <td>-0.028524</td>\n",
       "      <td>-0.027673</td>\n",
       "      <td>-0.021956</td>\n",
       "      <td>0.023961</td>\n",
       "      <td>-0.028239</td>\n",
       "      <td>0.002467</td>\n",
       "      <td>-0.024193</td>\n",
       "      <td>-0.021449</td>\n",
       "    </tr>\n",
       "    <tr>\n",
       "      <th>mobile_wt</th>\n",
       "      <td>-0.008130</td>\n",
       "      <td>-0.002954</td>\n",
       "      <td>-0.048459</td>\n",
       "      <td>-0.009159</td>\n",
       "      <td>0.051546</td>\n",
       "      <td>0.018056</td>\n",
       "      <td>-0.034782</td>\n",
       "      <td>0.049962</td>\n",
       "      <td>1.000000</td>\n",
       "      <td>-0.014722</td>\n",
       "      <td>...</td>\n",
       "      <td>0.004058</td>\n",
       "      <td>0.000280</td>\n",
       "      <td>0.003625</td>\n",
       "      <td>-0.009687</td>\n",
       "      <td>0.008340</td>\n",
       "      <td>0.003654</td>\n",
       "      <td>0.034969</td>\n",
       "      <td>-0.027915</td>\n",
       "      <td>0.008608</td>\n",
       "      <td>-0.025916</td>\n",
       "    </tr>\n",
       "    <tr>\n",
       "      <th>n_cores</th>\n",
       "      <td>-0.040219</td>\n",
       "      <td>0.020826</td>\n",
       "      <td>0.010834</td>\n",
       "      <td>-0.019179</td>\n",
       "      <td>0.000983</td>\n",
       "      <td>-0.000069</td>\n",
       "      <td>-0.007883</td>\n",
       "      <td>-0.005891</td>\n",
       "      <td>-0.014722</td>\n",
       "      <td>1.000000</td>\n",
       "      <td>...</td>\n",
       "      <td>0.019907</td>\n",
       "      <td>0.009605</td>\n",
       "      <td>-0.015182</td>\n",
       "      <td>-0.019794</td>\n",
       "      <td>0.024832</td>\n",
       "      <td>0.024459</td>\n",
       "      <td>0.018584</td>\n",
       "      <td>0.050861</td>\n",
       "      <td>-0.022497</td>\n",
       "      <td>-0.004805</td>\n",
       "    </tr>\n",
       "    <tr>\n",
       "      <th>pc</th>\n",
       "      <td>0.020578</td>\n",
       "      <td>-0.020685</td>\n",
       "      <td>-0.016682</td>\n",
       "      <td>-0.016503</td>\n",
       "      <td>0.638190</td>\n",
       "      <td>-0.006337</td>\n",
       "      <td>-0.007755</td>\n",
       "      <td>-0.007868</td>\n",
       "      <td>0.048246</td>\n",
       "      <td>0.014027</td>\n",
       "      <td>...</td>\n",
       "      <td>-0.014375</td>\n",
       "      <td>0.032283</td>\n",
       "      <td>0.027905</td>\n",
       "      <td>0.036847</td>\n",
       "      <td>-0.008533</td>\n",
       "      <td>0.035653</td>\n",
       "      <td>0.000582</td>\n",
       "      <td>0.013968</td>\n",
       "      <td>0.009445</td>\n",
       "      <td>0.033872</td>\n",
       "    </tr>\n",
       "    <tr>\n",
       "      <th>px_height</th>\n",
       "      <td>0.009159</td>\n",
       "      <td>-0.001896</td>\n",
       "      <td>-0.016835</td>\n",
       "      <td>-0.028550</td>\n",
       "      <td>-0.043890</td>\n",
       "      <td>-0.015819</td>\n",
       "      <td>0.018425</td>\n",
       "      <td>0.001435</td>\n",
       "      <td>0.004058</td>\n",
       "      <td>0.019907</td>\n",
       "      <td>...</td>\n",
       "      <td>1.000000</td>\n",
       "      <td>0.502919</td>\n",
       "      <td>-0.026758</td>\n",
       "      <td>0.067063</td>\n",
       "      <td>0.047565</td>\n",
       "      <td>-0.003926</td>\n",
       "      <td>-0.009302</td>\n",
       "      <td>-0.004806</td>\n",
       "      <td>0.047020</td>\n",
       "      <td>0.153372</td>\n",
       "    </tr>\n",
       "    <tr>\n",
       "      <th>px_width</th>\n",
       "      <td>-0.027072</td>\n",
       "      <td>-0.035930</td>\n",
       "      <td>0.025212</td>\n",
       "      <td>0.003039</td>\n",
       "      <td>0.002647</td>\n",
       "      <td>0.002351</td>\n",
       "      <td>0.002594</td>\n",
       "      <td>-0.014775</td>\n",
       "      <td>0.000280</td>\n",
       "      <td>0.009605</td>\n",
       "      <td>...</td>\n",
       "      <td>0.502919</td>\n",
       "      <td>1.000000</td>\n",
       "      <td>-0.006607</td>\n",
       "      <td>0.016683</td>\n",
       "      <td>0.021613</td>\n",
       "      <td>0.020603</td>\n",
       "      <td>0.031200</td>\n",
       "      <td>-0.025624</td>\n",
       "      <td>0.059285</td>\n",
       "      <td>0.153532</td>\n",
       "    </tr>\n",
       "    <tr>\n",
       "      <th>ram</th>\n",
       "      <td>0.003993</td>\n",
       "      <td>0.020859</td>\n",
       "      <td>0.008111</td>\n",
       "      <td>0.020362</td>\n",
       "      <td>0.001651</td>\n",
       "      <td>0.049973</td>\n",
       "      <td>0.068339</td>\n",
       "      <td>-0.028524</td>\n",
       "      <td>0.003625</td>\n",
       "      <td>-0.015182</td>\n",
       "      <td>...</td>\n",
       "      <td>-0.026758</td>\n",
       "      <td>-0.006607</td>\n",
       "      <td>1.000000</td>\n",
       "      <td>0.014637</td>\n",
       "      <td>0.043767</td>\n",
       "      <td>0.028290</td>\n",
       "      <td>0.039549</td>\n",
       "      <td>-0.042918</td>\n",
       "      <td>0.019305</td>\n",
       "      <td>0.910948</td>\n",
       "    </tr>\n",
       "    <tr>\n",
       "      <th>sc_h</th>\n",
       "      <td>-0.013099</td>\n",
       "      <td>0.000504</td>\n",
       "      <td>-0.020487</td>\n",
       "      <td>0.014937</td>\n",
       "      <td>0.015221</td>\n",
       "      <td>0.054624</td>\n",
       "      <td>0.033848</td>\n",
       "      <td>-0.027673</td>\n",
       "      <td>-0.009687</td>\n",
       "      <td>-0.019794</td>\n",
       "      <td>...</td>\n",
       "      <td>0.067063</td>\n",
       "      <td>0.016683</td>\n",
       "      <td>0.014637</td>\n",
       "      <td>1.000000</td>\n",
       "      <td>0.498265</td>\n",
       "      <td>-0.046411</td>\n",
       "      <td>0.028904</td>\n",
       "      <td>-0.029319</td>\n",
       "      <td>-0.004532</td>\n",
       "      <td>0.022078</td>\n",
       "    </tr>\n",
       "    <tr>\n",
       "      <th>sc_w</th>\n",
       "      <td>-0.005747</td>\n",
       "      <td>-0.006129</td>\n",
       "      <td>0.009927</td>\n",
       "      <td>-0.016743</td>\n",
       "      <td>-0.002808</td>\n",
       "      <td>0.054797</td>\n",
       "      <td>0.024673</td>\n",
       "      <td>-0.021956</td>\n",
       "      <td>0.008340</td>\n",
       "      <td>0.024832</td>\n",
       "      <td>...</td>\n",
       "      <td>0.047565</td>\n",
       "      <td>0.021613</td>\n",
       "      <td>0.043767</td>\n",
       "      <td>0.498265</td>\n",
       "      <td>1.000000</td>\n",
       "      <td>-0.021442</td>\n",
       "      <td>0.051289</td>\n",
       "      <td>-0.003737</td>\n",
       "      <td>0.020967</td>\n",
       "      <td>0.045977</td>\n",
       "    </tr>\n",
       "    <tr>\n",
       "      <th>talk_time</th>\n",
       "      <td>0.040093</td>\n",
       "      <td>0.024291</td>\n",
       "      <td>-0.020319</td>\n",
       "      <td>-0.021654</td>\n",
       "      <td>0.003970</td>\n",
       "      <td>-0.031515</td>\n",
       "      <td>0.002199</td>\n",
       "      <td>0.023961</td>\n",
       "      <td>0.003654</td>\n",
       "      <td>0.024459</td>\n",
       "      <td>...</td>\n",
       "      <td>-0.003926</td>\n",
       "      <td>0.020603</td>\n",
       "      <td>0.028290</td>\n",
       "      <td>-0.046411</td>\n",
       "      <td>-0.021442</td>\n",
       "      <td>1.000000</td>\n",
       "      <td>-0.061416</td>\n",
       "      <td>0.003565</td>\n",
       "      <td>-0.047049</td>\n",
       "      <td>0.031942</td>\n",
       "    </tr>\n",
       "    <tr>\n",
       "      <th>three_g</th>\n",
       "      <td>0.029253</td>\n",
       "      <td>-0.032399</td>\n",
       "      <td>-0.023414</td>\n",
       "      <td>-0.032399</td>\n",
       "      <td>-0.004804</td>\n",
       "      <td>0.584888</td>\n",
       "      <td>0.007381</td>\n",
       "      <td>-0.028239</td>\n",
       "      <td>0.034969</td>\n",
       "      <td>0.018584</td>\n",
       "      <td>...</td>\n",
       "      <td>-0.009302</td>\n",
       "      <td>0.031200</td>\n",
       "      <td>0.039549</td>\n",
       "      <td>0.028904</td>\n",
       "      <td>0.051289</td>\n",
       "      <td>-0.061416</td>\n",
       "      <td>1.000000</td>\n",
       "      <td>-0.003671</td>\n",
       "      <td>-0.015282</td>\n",
       "      <td>0.053844</td>\n",
       "    </tr>\n",
       "    <tr>\n",
       "      <th>touch_screen</th>\n",
       "      <td>0.004178</td>\n",
       "      <td>-0.021454</td>\n",
       "      <td>0.021892</td>\n",
       "      <td>-0.051177</td>\n",
       "      <td>-0.007289</td>\n",
       "      <td>0.033650</td>\n",
       "      <td>-0.052711</td>\n",
       "      <td>0.002467</td>\n",
       "      <td>-0.027915</td>\n",
       "      <td>0.050861</td>\n",
       "      <td>...</td>\n",
       "      <td>-0.004806</td>\n",
       "      <td>-0.025624</td>\n",
       "      <td>-0.042918</td>\n",
       "      <td>-0.029319</td>\n",
       "      <td>-0.003737</td>\n",
       "      <td>0.003565</td>\n",
       "      <td>-0.003671</td>\n",
       "      <td>1.000000</td>\n",
       "      <td>-0.010069</td>\n",
       "      <td>-0.045773</td>\n",
       "    </tr>\n",
       "    <tr>\n",
       "      <th>wifi</th>\n",
       "      <td>-0.015102</td>\n",
       "      <td>-0.030418</td>\n",
       "      <td>-0.011599</td>\n",
       "      <td>0.028976</td>\n",
       "      <td>0.026430</td>\n",
       "      <td>-0.030747</td>\n",
       "      <td>0.004161</td>\n",
       "      <td>-0.024193</td>\n",
       "      <td>0.008608</td>\n",
       "      <td>-0.022497</td>\n",
       "      <td>...</td>\n",
       "      <td>0.047020</td>\n",
       "      <td>0.059285</td>\n",
       "      <td>0.019305</td>\n",
       "      <td>-0.004532</td>\n",
       "      <td>0.020967</td>\n",
       "      <td>-0.047049</td>\n",
       "      <td>-0.015282</td>\n",
       "      <td>-0.010069</td>\n",
       "      <td>1.000000</td>\n",
       "      <td>0.013746</td>\n",
       "    </tr>\n",
       "    <tr>\n",
       "      <th>price_range</th>\n",
       "      <td>0.207743</td>\n",
       "      <td>0.017862</td>\n",
       "      <td>-0.001834</td>\n",
       "      <td>-0.005037</td>\n",
       "      <td>0.006101</td>\n",
       "      <td>0.056742</td>\n",
       "      <td>0.084742</td>\n",
       "      <td>-0.021449</td>\n",
       "      <td>-0.025916</td>\n",
       "      <td>-0.004805</td>\n",
       "      <td>...</td>\n",
       "      <td>0.153372</td>\n",
       "      <td>0.153532</td>\n",
       "      <td>0.910948</td>\n",
       "      <td>0.022078</td>\n",
       "      <td>0.045977</td>\n",
       "      <td>0.031942</td>\n",
       "      <td>0.053844</td>\n",
       "      <td>-0.045773</td>\n",
       "      <td>0.013746</td>\n",
       "      <td>1.000000</td>\n",
       "    </tr>\n",
       "  </tbody>\n",
       "</table>\n",
       "<p>21 rows × 21 columns</p>\n",
       "</div>"
      ],
      "text/plain": [
       "               battery_power      blue  clock_speed  dual_sim        fc  \\\n",
       "battery_power       1.000000  0.003665     0.016820 -0.053470  0.016356   \n",
       "blue                0.003665  1.000000     0.021083  0.008161  0.001862   \n",
       "clock_speed         0.016820  0.021083     1.000000  0.017061  0.000931   \n",
       "dual_sim           -0.053470  0.008161     0.017061  1.000000 -0.051256   \n",
       "fc                  0.016356  0.001862     0.000931 -0.051256  1.000000   \n",
       "four_g              0.036925  0.020122    -0.010528 -0.027413 -0.045578   \n",
       "int_memory          0.005736  0.024580     0.010888 -0.005203 -0.017480   \n",
       "m_dep               0.025960  0.036368    -0.009088 -0.018392 -0.008340   \n",
       "mobile_wt          -0.008130 -0.002954    -0.048459 -0.009159  0.051546   \n",
       "n_cores            -0.040219  0.020826     0.010834 -0.019179  0.000983   \n",
       "pc                  0.020578 -0.020685    -0.016682 -0.016503  0.638190   \n",
       "px_height           0.009159 -0.001896    -0.016835 -0.028550 -0.043890   \n",
       "px_width           -0.027072 -0.035930     0.025212  0.003039  0.002647   \n",
       "ram                 0.003993  0.020859     0.008111  0.020362  0.001651   \n",
       "sc_h               -0.013099  0.000504    -0.020487  0.014937  0.015221   \n",
       "sc_w               -0.005747 -0.006129     0.009927 -0.016743 -0.002808   \n",
       "talk_time           0.040093  0.024291    -0.020319 -0.021654  0.003970   \n",
       "three_g             0.029253 -0.032399    -0.023414 -0.032399 -0.004804   \n",
       "touch_screen        0.004178 -0.021454     0.021892 -0.051177 -0.007289   \n",
       "wifi               -0.015102 -0.030418    -0.011599  0.028976  0.026430   \n",
       "price_range         0.207743  0.017862    -0.001834 -0.005037  0.006101   \n",
       "\n",
       "                 four_g  int_memory     m_dep  mobile_wt   n_cores  ...  \\\n",
       "battery_power  0.036925    0.005736  0.025960  -0.008130 -0.040219  ...   \n",
       "blue           0.020122    0.024580  0.036368  -0.002954  0.020826  ...   \n",
       "clock_speed   -0.010528    0.010888 -0.009088  -0.048459  0.010834  ...   \n",
       "dual_sim      -0.027413   -0.005203 -0.018392  -0.009159 -0.019179  ...   \n",
       "fc            -0.045578   -0.017480 -0.008340   0.051546  0.000983  ...   \n",
       "four_g         1.000000    0.015416 -0.010165   0.018056 -0.000069  ...   \n",
       "int_memory     0.015416    1.000000  0.009582  -0.034782 -0.007883  ...   \n",
       "m_dep         -0.010165    0.009582  1.000000   0.049962 -0.005891  ...   \n",
       "mobile_wt      0.018056   -0.034782  0.049962   1.000000 -0.014722  ...   \n",
       "n_cores       -0.000069   -0.007883 -0.005891  -0.014722  1.000000  ...   \n",
       "pc            -0.006337   -0.007755 -0.007868   0.048246  0.014027  ...   \n",
       "px_height     -0.015819    0.018425  0.001435   0.004058  0.019907  ...   \n",
       "px_width       0.002351    0.002594 -0.014775   0.000280  0.009605  ...   \n",
       "ram            0.049973    0.068339 -0.028524   0.003625 -0.015182  ...   \n",
       "sc_h           0.054624    0.033848 -0.027673  -0.009687 -0.019794  ...   \n",
       "sc_w           0.054797    0.024673 -0.021956   0.008340  0.024832  ...   \n",
       "talk_time     -0.031515    0.002199  0.023961   0.003654  0.024459  ...   \n",
       "three_g        0.584888    0.007381 -0.028239   0.034969  0.018584  ...   \n",
       "touch_screen   0.033650   -0.052711  0.002467  -0.027915  0.050861  ...   \n",
       "wifi          -0.030747    0.004161 -0.024193   0.008608 -0.022497  ...   \n",
       "price_range    0.056742    0.084742 -0.021449  -0.025916 -0.004805  ...   \n",
       "\n",
       "               px_height  px_width       ram      sc_h      sc_w  talk_time  \\\n",
       "battery_power   0.009159 -0.027072  0.003993 -0.013099 -0.005747   0.040093   \n",
       "blue           -0.001896 -0.035930  0.020859  0.000504 -0.006129   0.024291   \n",
       "clock_speed    -0.016835  0.025212  0.008111 -0.020487  0.009927  -0.020319   \n",
       "dual_sim       -0.028550  0.003039  0.020362  0.014937 -0.016743  -0.021654   \n",
       "fc             -0.043890  0.002647  0.001651  0.015221 -0.002808   0.003970   \n",
       "four_g         -0.015819  0.002351  0.049973  0.054624  0.054797  -0.031515   \n",
       "int_memory      0.018425  0.002594  0.068339  0.033848  0.024673   0.002199   \n",
       "m_dep           0.001435 -0.014775 -0.028524 -0.027673 -0.021956   0.023961   \n",
       "mobile_wt       0.004058  0.000280  0.003625 -0.009687  0.008340   0.003654   \n",
       "n_cores         0.019907  0.009605 -0.015182 -0.019794  0.024832   0.024459   \n",
       "pc             -0.014375  0.032283  0.027905  0.036847 -0.008533   0.035653   \n",
       "px_height       1.000000  0.502919 -0.026758  0.067063  0.047565  -0.003926   \n",
       "px_width        0.502919  1.000000 -0.006607  0.016683  0.021613   0.020603   \n",
       "ram            -0.026758 -0.006607  1.000000  0.014637  0.043767   0.028290   \n",
       "sc_h            0.067063  0.016683  0.014637  1.000000  0.498265  -0.046411   \n",
       "sc_w            0.047565  0.021613  0.043767  0.498265  1.000000  -0.021442   \n",
       "talk_time      -0.003926  0.020603  0.028290 -0.046411 -0.021442   1.000000   \n",
       "three_g        -0.009302  0.031200  0.039549  0.028904  0.051289  -0.061416   \n",
       "touch_screen   -0.004806 -0.025624 -0.042918 -0.029319 -0.003737   0.003565   \n",
       "wifi            0.047020  0.059285  0.019305 -0.004532  0.020967  -0.047049   \n",
       "price_range     0.153372  0.153532  0.910948  0.022078  0.045977   0.031942   \n",
       "\n",
       "                three_g  touch_screen      wifi  price_range  \n",
       "battery_power  0.029253      0.004178 -0.015102     0.207743  \n",
       "blue          -0.032399     -0.021454 -0.030418     0.017862  \n",
       "clock_speed   -0.023414      0.021892 -0.011599    -0.001834  \n",
       "dual_sim      -0.032399     -0.051177  0.028976    -0.005037  \n",
       "fc            -0.004804     -0.007289  0.026430     0.006101  \n",
       "four_g         0.584888      0.033650 -0.030747     0.056742  \n",
       "int_memory     0.007381     -0.052711  0.004161     0.084742  \n",
       "m_dep         -0.028239      0.002467 -0.024193    -0.021449  \n",
       "mobile_wt      0.034969     -0.027915  0.008608    -0.025916  \n",
       "n_cores        0.018584      0.050861 -0.022497    -0.004805  \n",
       "pc             0.000582      0.013968  0.009445     0.033872  \n",
       "px_height     -0.009302     -0.004806  0.047020     0.153372  \n",
       "px_width       0.031200     -0.025624  0.059285     0.153532  \n",
       "ram            0.039549     -0.042918  0.019305     0.910948  \n",
       "sc_h           0.028904     -0.029319 -0.004532     0.022078  \n",
       "sc_w           0.051289     -0.003737  0.020967     0.045977  \n",
       "talk_time     -0.061416      0.003565 -0.047049     0.031942  \n",
       "three_g        1.000000     -0.003671 -0.015282     0.053844  \n",
       "touch_screen  -0.003671      1.000000 -0.010069    -0.045773  \n",
       "wifi          -0.015282     -0.010069  1.000000     0.013746  \n",
       "price_range    0.053844     -0.045773  0.013746     1.000000  \n",
       "\n",
       "[21 rows x 21 columns]"
      ]
     },
     "metadata": {},
     "output_type": "display_data"
    },
    {
     "name": "stdout",
     "output_type": "stream",
     "text": [
      "Jumlah feature (sebelum dilakukan feature selection ) : 20\n",
      "Jumlah feature (setelah dilakukan feature selection ) : 4\n",
      "Jumlah K didapatkan dari pengecekan korelasi\n"
     ]
    }
   ],
   "source": [
    "display(df.corr())\n",
    "\n",
    "\n",
    "selector = SelectKBest(f_classif, k=4)\n",
    "X_selected = selector.fit_transform(X, y)\n",
    "\n",
    "print(\"Jumlah feature (sebelum dilakukan feature selection ) :\", X.shape[1])\n",
    "print(\"Jumlah feature (setelah dilakukan feature selection ) :\", X_selected.shape[1])\n",
    "print(\"Jumlah K didapatkan dari pengecekan korelasi\")"
   ]
  },
  {
   "cell_type": "markdown",
   "metadata": {
    "id": "cRnGaYKzYCzQ"
   },
   "source": [
    "5\\. [6] Apa saja fitur-fitur yang terpilih hasil dari *feature selection*? Jelaskan strategi Anda dalam memilih fitur-fitur tersebut dan berikan analisis mengapa fitur tersebut cocok digunakan untuk mengklasifikasi label target!"
   ]
  },
  {
   "cell_type": "markdown",
   "metadata": {
    "id": "CIXT6s0CYXMr"
   },
   "source": [
    "> Jawaban: \n",
    "\n",
    "> Yang diambil adalah `battery_power`, `ram`, `px_height`, dan `px_weight`. Keempatnya memiliki korelasi dengan price_range di atas 0.1 sehingga terpilih menjadi fitur"
   ]
  },
  {
   "cell_type": "markdown",
   "metadata": {
    "id": "Zd_2N68bWAkj"
   },
   "source": [
    "## [75] **Classification**"
   ]
  },
  {
   "cell_type": "markdown",
   "metadata": {
    "id": "avihHMUe3Wr5"
   },
   "source": [
    "**Pada bagian ini Anda akan diminta untuk melakukan klasifikasi harga suatu mobile phone berdasarkan fitur-fitur yang sudah Anda pilih sebelumnya. Anda akan mencoba berbagai macam model klasifikasi seperti Decision Tree, Random Forest, Naive Bayes, dan K-nearest Neighbors untuk mencari model yang memiliki performa terbaik.**"
   ]
  },
  {
   "cell_type": "markdown",
   "metadata": {
    "id": "0BU-UDpS_vux"
   },
   "source": [
    "### [3] Preparation"
   ]
  },
  {
   "cell_type": "markdown",
   "metadata": {
    "id": "k0Rx9ijj1vxn"
   },
   "source": [
    "6\\. [3] Buatlah model K-Fold Cross Validation yang akan digunakan untuk membagi dataset train dan test menjadi beberapa bagian (*fold*). Strategi ini akan Anda gunakan pada semua *classifier* dibandingkan dengan strategi sebelumnya yang hanya membagi data ke dalam data training dan testing menggunakan method `train_test_split`."
   ]
  },
  {
   "cell_type": "code",
   "execution_count": 8,
   "metadata": {
    "id": "OH_X8ztTiPNk"
   },
   "outputs": [],
   "source": [
    "kf = KFold(n_splits=5,shuffle=True,random_state=5)"
   ]
  },
  {
   "cell_type": "markdown",
   "metadata": {
    "id": "9inMOAFxW3Uh"
   },
   "source": [
    "### [19] Decision Tree"
   ]
  },
  {
   "cell_type": "markdown",
   "metadata": {
    "id": "1mm499viX-M0"
   },
   "source": [
    "7\\. [4] Implementasikan model Decision Tree tanpa konfigurasi parameter apapun, serta berikan hasil evaluasinya!"
   ]
  },
  {
   "cell_type": "code",
   "execution_count": 9,
   "metadata": {
    "id": "yrTlpXM1iPjm"
   },
   "outputs": [
    {
     "data": {
      "text/plain": [
       "0.8589591078066915"
      ]
     },
     "execution_count": 9,
     "metadata": {},
     "output_type": "execute_result"
    }
   ],
   "source": [
    "dt = DecisionTreeClassifier()\n",
    "\n",
    "np.mean(cross_val_score(dt, X_selected, y, cv=kf))"
   ]
  },
  {
   "cell_type": "markdown",
   "metadata": {
    "id": "xv7Fru2ebkZb"
   },
   "source": [
    "8\\. [4] Implementasikan model Decision Tree dengan memberikan parameter nilai `min_samples_leaf=50`; serta berikan hasil evaluasinya!"
   ]
  },
  {
   "cell_type": "code",
   "execution_count": 10,
   "metadata": {
    "id": "7Ll1nIE2iP6A"
   },
   "outputs": [
    {
     "data": {
      "text/plain": [
       "0.7438276194410023"
      ]
     },
     "execution_count": 10,
     "metadata": {},
     "output_type": "execute_result"
    }
   ],
   "source": [
    "dt_50 = DecisionTreeClassifier(min_samples_leaf=50)\n",
    "\n",
    "np.mean(cross_val_score(dt_50, X_selected, y, cv=kf))"
   ]
  },
  {
   "cell_type": "markdown",
   "metadata": {
    "id": "q90rtM8MdnGU"
   },
   "source": [
    "9\\. [6] Bandingkan model yang dibuat pada soal nomor 7 dan nomor 8, manakah yang lebih baik? Berikan analisis Anda terkait bagaimana hubungan perubahan parameter tersebut dengan kualitas hasil klasifikasi!"
   ]
  },
  {
   "cell_type": "markdown",
   "metadata": {
    "id": "oikaDKV0dnGV"
   },
   "source": [
    "> Jawaban: \n",
    "\n",
    "> Model pada nomor 7 lebih akurat dibandingkan nomor 8. Parameter `min_samples_leaf` menentukan minimal sample yang ada pada suatu leaf_node. Dengan mengeset parameter tersebut menjadi 50, model kemungkinan bersifat underfitted."
   ]
  },
  {
   "cell_type": "markdown",
   "metadata": {
    "id": "H3811o_r3W2T"
   },
   "source": [
    "10\\. [5] Buatlah model yang memiliki performa yang lebih bagus dibanding kedua model sebelumnya! Anda dibebaskan untuk melakukan eksplorasi dalam mengkonfigurasi parameter yang dipakai."
   ]
  },
  {
   "cell_type": "code",
   "execution_count": 11,
   "metadata": {},
   "outputs": [
    {
     "data": {
      "text/plain": [
       "{'max_depth': 20, 'min_samples_leaf': 2, 'random_state': 3}"
      ]
     },
     "execution_count": 11,
     "metadata": {},
     "output_type": "execute_result"
    }
   ],
   "source": [
    "param = {\n",
    "         'max_depth' : [5,10,20,25,None],\n",
    "         'min_samples_leaf' : [1,2,3,4,5,6,7,8,10],\n",
    "         'random_state' : [1,2,3,4,5]\n",
    "        }\n",
    "\n",
    "dt_optimimized = DecisionTreeClassifier()\n",
    "\n",
    "estimator = GridSearchCV(estimator= dt_optimimized, \n",
    "                   param_grid=param, cv= kf)\n",
    "\n",
    "estimator.fit(X_selected, y)\n",
    "\n",
    "estimator.best_params_"
   ]
  },
  {
   "cell_type": "code",
   "execution_count": 12,
   "metadata": {
    "id": "fAjKvo8yiRQB"
   },
   "outputs": [
    {
     "data": {
      "text/plain": [
       "0.8663665152140988"
      ]
     },
     "execution_count": 12,
     "metadata": {},
     "output_type": "execute_result"
    }
   ],
   "source": [
    "dt_opt = DecisionTreeClassifier(**estimator.best_params_)\n",
    "\n",
    "np.mean(cross_val_score(dt_opt, X_selected, y, cv=kf))"
   ]
  },
  {
   "cell_type": "markdown",
   "metadata": {
    "id": "4Qzu0GmLXLF8"
   },
   "source": [
    "### [18] Random Forest"
   ]
  },
  {
   "cell_type": "markdown",
   "metadata": {
    "id": "XX-Fw5IKuGW1"
   },
   "source": [
    "11\\. [4] Implementasikan model Random Forest tanpa konfigurasi parameter apapun, serta berikan hasil evaluasinya!"
   ]
  },
  {
   "cell_type": "code",
   "execution_count": 13,
   "metadata": {
    "id": "7bdchBYiiR36"
   },
   "outputs": [
    {
     "data": {
      "text/plain": [
       "0.90647115517004"
      ]
     },
     "execution_count": 13,
     "metadata": {},
     "output_type": "execute_result"
    }
   ],
   "source": [
    "rf = RandomForestClassifier()\n",
    "\n",
    "np.mean(cross_val_score(rf, X_selected, y, cv=kf))"
   ]
  },
  {
   "cell_type": "markdown",
   "metadata": {
    "id": "xtJr-aswuQpO"
   },
   "source": [
    "12\\. [8] Implementasikan model Random Forest dengan parameter yang didapatkan dari hasil Hyperparameter Tuning, serta berikan hasil evaluasinya!"
   ]
  },
  {
   "cell_type": "code",
   "execution_count": 14,
   "metadata": {
    "id": "5HFjrTD2iSnU"
   },
   "outputs": [
    {
     "data": {
      "text/plain": [
       "{'random_state': 190}"
      ]
     },
     "execution_count": 14,
     "metadata": {},
     "output_type": "execute_result"
    }
   ],
   "source": [
    "param = {\n",
    "         'random_state' : [10,100,150,175,190,195,200,205,210]\n",
    "        }\n",
    "\n",
    "rf_est = RandomForestClassifier()\n",
    "\n",
    "estimator_rf = GridSearchCV(estimator= rf_est, \n",
    "                   param_grid=param, cv= kf)\n",
    "\n",
    "estimator_rf.fit(X_selected, y)\n",
    "\n",
    "estimator_rf.best_params_"
   ]
  },
  {
   "cell_type": "code",
   "execution_count": 15,
   "metadata": {},
   "outputs": [
    {
     "data": {
      "text/plain": [
       "0.913151590251962"
      ]
     },
     "execution_count": 15,
     "metadata": {},
     "output_type": "execute_result"
    }
   ],
   "source": [
    "rf_param = RandomForestClassifier(**estimator_rf.best_params_)\n",
    "\n",
    "np.mean(cross_val_score(rf_param, X_selected, y, cv=kf))"
   ]
  },
  {
   "cell_type": "markdown",
   "metadata": {
    "id": "m9q2bUyML9IO"
   },
   "source": [
    "13\\. [6] Bandingkan model yang dibuat pada soal nomor 11 dan nomor 12, manakah yang lebih baik? Berikan analisis Anda terkait bagaimana hubungan perubahan parameter tersebut dengan kualitas hasil klasifikasi!"
   ]
  },
  {
   "cell_type": "markdown",
   "metadata": {
    "id": "-Z8ISug7fR7X"
   },
   "source": [
    "> Jawaban: \n",
    "\n",
    "> Karena hyperparameter yang dituning adalah random_state, susah ditebak apabila yang didapatkan adalah terbaik dari seluruh range. Tetapi bisa dipastikan bahwa model pada nomor 12 akan selalu konsisten lebih bagus dibandingkan nomor 11 karena hyperparameter random state tersebut\n"
   ]
  },
  {
   "cell_type": "markdown",
   "metadata": {
    "id": "GYjdBnEGXLSt"
   },
   "source": [
    "### [16] Naive Bayes"
   ]
  },
  {
   "cell_type": "markdown",
   "metadata": {
    "id": "Ye29g1MxZC8X"
   },
   "source": [
    "14\\. [4] Implementasikan model dari salah satu variasi Naive Bayes; serta berikan hasil evaluasinya!"
   ]
  },
  {
   "cell_type": "code",
   "execution_count": 16,
   "metadata": {
    "id": "ekaf-eMsiTZ_"
   },
   "outputs": [
    {
     "data": {
      "text/plain": [
       "0.7846867685529396"
      ]
     },
     "execution_count": 16,
     "metadata": {},
     "output_type": "execute_result"
    }
   ],
   "source": [
    "nb = GaussianNB()\n",
    "\n",
    "np.mean(cross_val_score(nb, X_selected, y, cv=kf))"
   ]
  },
  {
   "cell_type": "markdown",
   "metadata": {
    "id": "xsWO4hMrjuAe"
   },
   "source": [
    "15\\. [6] Apa alasan dan pertimbangan Anda dalam memilih variasi tersebut dibandingkan variasi Naive Bayes lainnya? "
   ]
  },
  {
   "cell_type": "markdown",
   "metadata": {
    "id": "ouWhbqaHiZd4"
   },
   "source": [
    "> Jawaban:\n",
    "\n",
    "> Data yang kita miliki mayoritas bersifat numerik dan kontinu sehingga cocok untuk menggunakan `GaussianNB()`. Adapula beberapa yang memiliki nilai biner seperti `blue`, `dual_sim`, `fc` dll. tetapi mayoritas data bersifat kontinu sehingga di ambil `GaussianNB()`. Selain itu adapun melakukan fitting dengan model `MultinomialNB()` yang mengembalikan hasil lebih buruk dibandingkan gaussian."
   ]
  },
  {
   "cell_type": "markdown",
   "metadata": {
    "id": "VsSeCbX4F47y"
   },
   "source": [
    "16\\. [6] Masing-masing variasi Naive Bayes dibuat khusus untuk menyesuaikan tipe data tertentu pada data yang digunakan. Jika data yang ada memiliki tipe fitur yang bervariasi (numerik, biner, kategorik, dll), apakah kita bisa menggunakan salah satu variasi algoritma saja? Bagaimana strategi Anda dalam menganani kasus tersebut?"
   ]
  },
  {
   "cell_type": "markdown",
   "metadata": {
    "id": "Ke7dIWhXGctn"
   },
   "source": [
    "> Jawaban:\n",
    "\n",
    "> Secara teori bila ada variasi fitur kita bisa memisahkannya berdasarkan tipenya. Setelah itu menghitung probabilitas target pada masing-masing variasi fitur dan mengalikan hasilnya. Dalam implementasi, kita bisa menggunakan dua model yang berbeda (seperti Multinomial dan Gaussian) kemudian menggabungkan probabilitasnya dan mem-fitnya dalam model baru. Cara lain adalah dengan mengubah variabel kategorikal menjadi continuous/diskret sehingga hanya perlu dilakukan fitting ke model Gaussian atau Multinomial, tetapi ini tidak bisa berlaku bila kita ingin menggunakan model Gaussian."
   ]
  },
  {
   "cell_type": "markdown",
   "metadata": {
    "id": "fgcOGrgNXLOb"
   },
   "source": [
    "### [12] K-nearest Neighbors"
   ]
  },
  {
   "cell_type": "markdown",
   "metadata": {
    "id": "t8rTVurcyq6H"
   },
   "source": [
    "17\\. [4] Implementasikan model KNN dengan memberikan parameter nilai `n_neighbors=3`; serta berikan hasil evaluasinya!"
   ]
  },
  {
   "cell_type": "code",
   "execution_count": 17,
   "metadata": {
    "id": "iBgt6hlliUKa"
   },
   "outputs": [
    {
     "data": {
      "text/plain": [
       "0.8686080132176788"
      ]
     },
     "execution_count": 17,
     "metadata": {},
     "output_type": "execute_result"
    }
   ],
   "source": [
    "KNN = KNeighborsClassifier(n_neighbors=3)\n",
    "\n",
    "np.mean(cross_val_score(KNN, X_selected, y, cv=kf))"
   ]
  },
  {
   "cell_type": "markdown",
   "metadata": {
    "id": "Uqj3bKgDzP71"
   },
   "source": [
    "18\\. [8] Implementasikan model KNN dengan parameter yang didapatkan dari hasil Hyperparameter Tuning, serta berikan hasil evaluasinya!"
   ]
  },
  {
   "cell_type": "code",
   "execution_count": 18,
   "metadata": {
    "id": "XnxRKOjJiUga"
   },
   "outputs": [
    {
     "data": {
      "text/plain": [
       "{'n_neighbors': 11}"
      ]
     },
     "execution_count": 18,
     "metadata": {},
     "output_type": "execute_result"
    }
   ],
   "source": [
    "param_KNN = [\n",
    "  { \n",
    "    'n_neighbors': [8,9,10,11,12]\n",
    "  } \n",
    "]\n",
    "\n",
    "KNN_est = KNeighborsClassifier()\n",
    "\n",
    "est_for_knn = GridSearchCV(estimator= KNN_est, \n",
    "                   param_grid=param_KNN, cv= kf)\n",
    "\n",
    "est_for_knn.fit(X_selected, y)\n",
    "\n",
    "est_for_knn.best_params_"
   ]
  },
  {
   "cell_type": "code",
   "execution_count": 19,
   "metadata": {},
   "outputs": [
    {
     "data": {
      "text/plain": [
       "0.8819936665289827"
      ]
     },
     "execution_count": 19,
     "metadata": {},
     "output_type": "execute_result"
    }
   ],
   "source": [
    "KNN_param = KNeighborsClassifier(**est_for_knn.best_params_)\n",
    "\n",
    "np.mean(cross_val_score(KNN_param, X_selected, y, cv=kf))"
   ]
  },
  {
   "cell_type": "markdown",
   "metadata": {
    "id": "0bJvYH9F38uw"
   },
   "source": [
    "### [7] Analisis"
   ]
  },
  {
   "cell_type": "markdown",
   "metadata": {
    "id": "ER7H289m3-Cv"
   },
   "source": [
    "19\\. [7] Dari keempat variasi model (Decision Tree, Random Forest, Naive Bayes, dan KNN) yang sudah Anda coba, manakah model yang memiliki performa terbaik? Berikan analisis Anda!"
   ]
  },
  {
   "cell_type": "markdown",
   "metadata": {
    "id": "eReK2O-s4X-m"
   },
   "source": [
    "> Jawaban:\n",
    "\n",
    "> Model terbaik didapatkan dengan Random Forest. Performa model tersebut lebih bagus dibandingkan dengan model lain karena beberapa faktor\n",
    "\n",
    "> Bila dibandingkan dengan **DecisionTree** Random Forest lebih bagus karena menggabungkan beberapa DecisionTree, dengan variasi fitur/target berbeda-beda pada masing-masing tree, dan mengambil hasil rata-ratanya. Dengan begini kita mendapatkan hasil yang lebih bagus dibandingkan satu DecisionTree Saja\n",
    "\n",
    "> Bila dibandingkan dengan **NaiveBayes** Random Forest lebih bagus karena faktor naive bayes yang disebutkan pada nomor 15. Random Forest tidak perlu akomodasi tambahan untuk masalah tipe data beda, tidak seperti naive bayes. Karena ini Random Forest lebih bagus\n",
    "\n",
    "> Model Random Forest hampir setara dalam performa dengan **KNN**. Alasan saya memilih Random Forest adalah karena hasil cross_val_score-nya yang rata-rata lebih bagus dibandingkan KNN dengan hyperparameter tuning."
   ]
  },
  {
   "cell_type": "code",
   "execution_count": null,
   "metadata": {},
   "outputs": [],
   "source": []
  }
 ],
 "metadata": {
  "colab": {
   "collapsed_sections": [],
   "provenance": []
  },
  "kernelspec": {
   "display_name": "Python 3 (ipykernel)",
   "language": "python",
   "name": "python3"
  },
  "language_info": {
   "codemirror_mode": {
    "name": "ipython",
    "version": 3
   },
   "file_extension": ".py",
   "mimetype": "text/x-python",
   "name": "python",
   "nbconvert_exporter": "python",
   "pygments_lexer": "ipython3",
   "version": "3.9.12"
  }
 },
 "nbformat": 4,
 "nbformat_minor": 1
}
